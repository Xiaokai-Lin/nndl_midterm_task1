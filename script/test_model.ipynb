{
 "cells": [
  {
   "cell_type": "code",
   "execution_count": 1,
   "metadata": {},
   "outputs": [
    {
     "name": "stderr",
     "output_type": "stream",
     "text": [
      "Seed set to 42\n"
     ]
    }
   ],
   "source": [
    "import torch\n",
    "from torchvision.transforms import transforms\n",
    "from torch.utils.data import DataLoader\n",
    "import lightning as L\n",
    "import numpy as np\n",
    "from sklearn.model_selection import train_test_split\n",
    "from data import Cub2011\n",
    "from model import CubClassifier"
   ]
  },
  {
   "cell_type": "code",
   "execution_count": 2,
   "metadata": {},
   "outputs": [],
   "source": [
    "torch.manual_seed(42)\n",
    "WORKPATH = '/home/longkailin/sms2/nndl/midterm'\n",
    "# Define transformation for the dataset\n",
    "transform_train = transforms.Compose([\n",
    "    transforms.Resize((224,224)),\n",
    "    transforms.RandomCrop(224, padding=4),\n",
    "    transforms.RandomHorizontalFlip(),\n",
    "    transforms.ToTensor(),\n",
    "    transforms.Normalize((0.485, 0.456, 0.406), (0.229, 0.224, 0.225))\n",
    "])\n",
    "\n",
    "transform_test = transforms.Compose([\n",
    "    transforms.Resize((224,224)),\n",
    "    transforms.ToTensor(),\n",
    "    transforms.Normalize((0.485, 0.456, 0.406), (0.229, 0.224, 0.225))\n",
    "])\n",
    "\n",
    "# Load the CUB-2011 dataset\n",
    "train_datasest = Cub2011(root=WORKPATH, download=False, transform=transform_train)\n",
    "test_dataset = Cub2011(root=WORKPATH, download=False, train=False, transform=transform_test)\n",
    "\n",
    "# Stratified Sampling for train and val\n",
    "train_idx, validation_idx = train_test_split(np.arange(len(train_datasest)),\n",
    "                                             test_size=0.1,\n",
    "                                             random_state=999,\n",
    "                                             shuffle=True,\n",
    "                                             stratify=train_datasest.data['target'].to_numpy())\n",
    "\n",
    "# Subset dataset for train and val\n",
    "validation_dataset = torch.utils.data.Subset(train_datasest, validation_idx)\n",
    "train_dataset = torch.utils.data.Subset(train_datasest, train_idx)\n",
    "\n",
    "\n",
    "\n",
    "# Create data loaders\n",
    "train_loader = DataLoader(train_dataset, batch_size=128, shuffle=True)\n",
    "val_loader = DataLoader(validation_dataset, batch_size=128, shuffle=False)\n",
    "test_loader = DataLoader(test_dataset, batch_size=128, shuffle=True)"
   ]
  },
  {
   "cell_type": "code",
   "execution_count": 5,
   "metadata": {},
   "outputs": [],
   "source": [
    "# Load the desired model and train: SGD, lr=0.1\n",
    "model_path = WORKPATH + '/model_optim_SGD_lr0.1/lightning_logs/version_0/checkpoints/epoch=41-step=1806.ckpt'\n",
    "test_model = CubClassifier.load_from_checkpoint(model_path)"
   ]
  },
  {
   "cell_type": "code",
   "execution_count": 6,
   "metadata": {},
   "outputs": [],
   "source": [
    "test_model.eval()\n",
    "\n",
    "# Calculate the mean accuracy on the test set\n",
    "correct = 0\n",
    "total = 0\n",
    "with torch.no_grad():\n",
    "    for images, labels in test_loader:\n",
    "        outputs = test_model(images)\n",
    "        _, predicted = torch.max(outputs.data, 1)\n",
    "        total += labels.size(0)\n",
    "        correct += (predicted == labels).sum().item()\n",
    "        \n",
    "print('Accuracy of the network on the test images: %d %%' % (100 * correct / total))     \n"
   ]
  }
 ],
 "metadata": {
  "kernelspec": {
   "display_name": "nndlenv",
   "language": "python",
   "name": "python3"
  },
  "language_info": {
   "codemirror_mode": {
    "name": "ipython",
    "version": 3
   },
   "file_extension": ".py",
   "mimetype": "text/x-python",
   "name": "python",
   "nbconvert_exporter": "python",
   "pygments_lexer": "ipython3",
   "version": "3.12.3"
  }
 },
 "nbformat": 4,
 "nbformat_minor": 2
}
